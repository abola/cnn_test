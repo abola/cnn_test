{
 "cells": [
  {
   "cell_type": "code",
   "execution_count": 1,
   "metadata": {},
   "outputs": [
    {
     "name": "stderr",
     "output_type": "stream",
     "text": [
      "Using TensorFlow backend.\n",
      "/opt/anaconda3/envs/cwenv/lib/python3.7/site-packages/ipykernel_launcher.py:30: UserWarning: Update your `Conv2D` call to the Keras 2 API: `Conv2D(32, (3, 3), input_shape=(64, 64, 3..., activation=\"relu\")`\n",
      "/opt/anaconda3/envs/cwenv/lib/python3.7/site-packages/ipykernel_launcher.py:36: UserWarning: Update your `Conv2D` call to the Keras 2 API: `Conv2D(32, (3, 3), activation=\"relu\")`\n",
      "/opt/anaconda3/envs/cwenv/lib/python3.7/site-packages/ipykernel_launcher.py:43: UserWarning: Update your `Dense` call to the Keras 2 API: `Dense(activation=\"relu\", units=128)`\n",
      "/opt/anaconda3/envs/cwenv/lib/python3.7/site-packages/ipykernel_launcher.py:44: UserWarning: Update your `Dense` call to the Keras 2 API: `Dense(activation=\"sigmoid\", units=1)`\n"
     ]
    },
    {
     "name": "stdout",
     "output_type": "stream",
     "text": [
      "Found 8000 images belonging to 2 classes.\n",
      "Found 2000 images belonging to 2 classes.\n"
     ]
    },
    {
     "name": "stderr",
     "output_type": "stream",
     "text": [
      "/opt/anaconda3/envs/cwenv/lib/python3.7/site-packages/ipykernel_launcher.py:74: UserWarning: The semantics of the Keras 2 argument `steps_per_epoch` is not the same as the Keras 1 argument `samples_per_epoch`. `steps_per_epoch` is the number of batches to draw from the generator at each epoch. Basically steps_per_epoch = samples_per_epoch/batch_size. Similarly `nb_val_samples`->`validation_steps` and `val_samples`->`steps` arguments have changed. Update your method calls accordingly.\n",
      "/opt/anaconda3/envs/cwenv/lib/python3.7/site-packages/ipykernel_launcher.py:74: UserWarning: Update your `fit_generator` call to the Keras 2 API: `fit_generator(<keras.pre..., validation_data=<keras.pre..., steps_per_epoch=250, epochs=25, validation_steps=2000)`\n"
     ]
    },
    {
     "name": "stdout",
     "output_type": "stream",
     "text": [
      "Epoch 1/25\n",
      "250/250 [==============================] - 214s 858ms/step - loss: 0.6715 - accuracy: 0.5853 - val_loss: 0.6111 - val_accuracy: 0.6729\n",
      "Epoch 2/25\n",
      "250/250 [==============================] - 214s 858ms/step - loss: 0.5963 - accuracy: 0.6801 - val_loss: 0.5827 - val_accuracy: 0.6939\n",
      "Epoch 3/25\n",
      "250/250 [==============================] - 216s 864ms/step - loss: 0.5590 - accuracy: 0.7088 - val_loss: 0.4899 - val_accuracy: 0.7301\n",
      "Epoch 4/25\n",
      "250/250 [==============================] - 212s 847ms/step - loss: 0.5297 - accuracy: 0.7334 - val_loss: 0.6379 - val_accuracy: 0.7316\n",
      "Epoch 5/25\n",
      "250/250 [==============================] - 209s 835ms/step - loss: 0.4989 - accuracy: 0.7571 - val_loss: 0.7235 - val_accuracy: 0.7555\n",
      "Epoch 6/25\n",
      "250/250 [==============================] - 208s 830ms/step - loss: 0.4812 - accuracy: 0.7669 - val_loss: 0.3318 - val_accuracy: 0.7724\n",
      "Epoch 7/25\n",
      "250/250 [==============================] - 208s 834ms/step - loss: 0.4735 - accuracy: 0.7776 - val_loss: 0.4556 - val_accuracy: 0.7496\n",
      "Epoch 8/25\n",
      "250/250 [==============================] - 209s 838ms/step - loss: 0.4383 - accuracy: 0.7929 - val_loss: 0.5922 - val_accuracy: 0.7822\n",
      "Epoch 9/25\n",
      "250/250 [==============================] - 211s 844ms/step - loss: 0.4356 - accuracy: 0.7969 - val_loss: 0.3524 - val_accuracy: 0.7817\n",
      "Epoch 10/25\n",
      "250/250 [==============================] - 211s 844ms/step - loss: 0.4179 - accuracy: 0.8025 - val_loss: 0.4063 - val_accuracy: 0.7838\n",
      "Epoch 11/25\n",
      "250/250 [==============================] - 212s 846ms/step - loss: 0.3931 - accuracy: 0.8205 - val_loss: 0.3795 - val_accuracy: 0.7979\n",
      "Epoch 12/25\n",
      "250/250 [==============================] - 213s 851ms/step - loss: 0.3852 - accuracy: 0.8290 - val_loss: 0.5784 - val_accuracy: 0.7893\n",
      "Epoch 13/25\n",
      "250/250 [==============================] - 214s 855ms/step - loss: 0.3765 - accuracy: 0.8311 - val_loss: 0.4338 - val_accuracy: 0.7921\n",
      "Epoch 14/25\n",
      "250/250 [==============================] - 216s 863ms/step - loss: 0.3591 - accuracy: 0.8411 - val_loss: 0.5632 - val_accuracy: 0.8075\n",
      "Epoch 15/25\n",
      "250/250 [==============================] - 222s 888ms/step - loss: 0.3326 - accuracy: 0.8519 - val_loss: 0.3531 - val_accuracy: 0.7948\n",
      "Epoch 16/25\n",
      "250/250 [==============================] - 220s 878ms/step - loss: 0.3295 - accuracy: 0.8564 - val_loss: 0.2095 - val_accuracy: 0.7929\n",
      "Epoch 17/25\n",
      "250/250 [==============================] - 217s 868ms/step - loss: 0.3121 - accuracy: 0.8658 - val_loss: 0.5060 - val_accuracy: 0.8115\n",
      "Epoch 18/25\n",
      "250/250 [==============================] - 220s 880ms/step - loss: 0.3011 - accuracy: 0.8698 - val_loss: 0.4048 - val_accuracy: 0.7914\n",
      "Epoch 19/25\n",
      "250/250 [==============================] - 212s 848ms/step - loss: 0.2863 - accuracy: 0.8760 - val_loss: 0.2323 - val_accuracy: 0.8155\n",
      "Epoch 20/25\n",
      "250/250 [==============================] - 211s 846ms/step - loss: 0.2768 - accuracy: 0.8838 - val_loss: 0.6390 - val_accuracy: 0.8090\n",
      "Epoch 21/25\n",
      "250/250 [==============================] - 207s 830ms/step - loss: 0.2499 - accuracy: 0.8959 - val_loss: 0.5756 - val_accuracy: 0.8076\n",
      "Epoch 22/25\n",
      "250/250 [==============================] - 206s 825ms/step - loss: 0.2403 - accuracy: 0.9021 - val_loss: 0.1478 - val_accuracy: 0.8085\n",
      "Epoch 23/25\n",
      "250/250 [==============================] - 208s 832ms/step - loss: 0.2221 - accuracy: 0.9087 - val_loss: 0.7653 - val_accuracy: 0.8204\n",
      "Epoch 24/25\n",
      "250/250 [==============================] - 211s 845ms/step - loss: 0.2210 - accuracy: 0.9081 - val_loss: 0.5327 - val_accuracy: 0.7963\n",
      "Epoch 25/25\n",
      "250/250 [==============================] - 207s 829ms/step - loss: 0.2024 - accuracy: 0.9178 - val_loss: 0.3737 - val_accuracy: 0.8204\n"
     ]
    },
    {
     "data": {
      "text/plain": [
       "<keras.callbacks.callbacks.History at 0x7fa447ec8090>"
      ]
     },
     "execution_count": 1,
     "metadata": {},
     "output_type": "execute_result"
    }
   ],
   "source": [
    "# Convolutional Neural Network\n",
    "\n",
    "# Installing Theano\n",
    "# pip install --upgrade --no-deps git+git://github.com/Theano/Theano.git\n",
    "\n",
    "# Installing Tensorflow\n",
    "# Install Tensorflow from the website: https://www.tensorflow.org/versions/r0.12/get_started/os_setup.html\n",
    "\n",
    "# Installing Keras\n",
    "# pip install --upgrade keras\n",
    "\n",
    "# Resolve OMP issue\n",
    "# Error #15: Initializing libiomp5.dylib, but found libiomp5.dylib already initialized.\n",
    "import os\n",
    "os.environ['KMP_DUPLICATE_LIB_OK']='True'\n",
    "\n",
    "# Part 1 - Building the CNN\n",
    "\n",
    "# Importing the Keras libraries and packages\n",
    "from keras.models import Sequential\n",
    "from keras.layers import Convolution2D\n",
    "from keras.layers import MaxPooling2D\n",
    "from keras.layers import Flatten\n",
    "from keras.layers import Dense\n",
    "\n",
    "# Initialising the CNN\n",
    "classifier = Sequential()\n",
    "\n",
    "# Step 1 - Convolution\n",
    "classifier.add(Convolution2D(32, 3, 3, input_shape = (64, 64, 3), activation = 'relu'))\n",
    "\n",
    "# Step 2 - Pooling\n",
    "classifier.add(MaxPooling2D(pool_size = (2, 2)))\n",
    "\n",
    "# Adding a second convolutional layer\n",
    "classifier.add(Convolution2D(32, 3, 3, activation = 'relu'))\n",
    "classifier.add(MaxPooling2D(pool_size = (2, 2)))\n",
    "\n",
    "# Step 3 - Flattening\n",
    "classifier.add(Flatten())\n",
    "\n",
    "# Step 4 - Full connection\n",
    "classifier.add(Dense(output_dim = 128, activation = 'relu'))\n",
    "classifier.add(Dense(output_dim = 1, activation = 'sigmoid'))\n",
    "\n",
    "# Compiling the CNN\n",
    "classifier.compile(optimizer = 'adam', loss = 'binary_crossentropy', metrics = ['accuracy'])\n",
    "\n",
    "### Enable GPU Support ###\n",
    "import tensorflow as tf\n",
    "config = tf.ConfigProto()\n",
    "config.gpu_options.allow_growth = True\n",
    "session = tf.Session(config=config)\n",
    "\n",
    "# Part 2 - Fitting the CNN to the images\n",
    "\n",
    "from keras.preprocessing.image import ImageDataGenerator\n",
    "\n",
    "train_datagen = ImageDataGenerator(rescale = 1./255,\n",
    "                                   shear_range = 0.2,\n",
    "                                   zoom_range = 0.2,\n",
    "                                   horizontal_flip = True)\n",
    "\n",
    "test_datagen = ImageDataGenerator(rescale = 1./255)\n",
    "\n",
    "training_set = train_datagen.flow_from_directory('dataset/training_set',\n",
    "                                                 target_size = (64, 64),\n",
    "                                                 batch_size = 32,\n",
    "                                                 class_mode = 'binary')\n",
    "\n",
    "test_set = test_datagen.flow_from_directory('dataset/test_set',\n",
    "                                            target_size = (64, 64),\n",
    "                                            batch_size = 32,\n",
    "                                            class_mode = 'binary')\n",
    "\n",
    "classifier.fit_generator(training_set,\n",
    "                         samples_per_epoch = 8000,\n",
    "                         nb_epoch = 25,\n",
    "                         validation_data = test_set,\n",
    "                         nb_val_samples = 2000)\n",
    "                         "
   ]
  },
  {
   "cell_type": "code",
   "execution_count": null,
   "metadata": {},
   "outputs": [],
   "source": []
  }
 ],
 "metadata": {
  "kernelspec": {
   "display_name": "Python 3",
   "language": "python",
   "name": "python3"
  },
  "language_info": {
   "codemirror_mode": {
    "name": "ipython",
    "version": 3
   },
   "file_extension": ".py",
   "mimetype": "text/x-python",
   "name": "python",
   "nbconvert_exporter": "python",
   "pygments_lexer": "ipython3",
   "version": "3.7.7"
  }
 },
 "nbformat": 4,
 "nbformat_minor": 4
}
